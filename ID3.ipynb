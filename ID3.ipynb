{
 "cells": [
  {
   "cell_type": "markdown",
   "metadata": {},
   "source": [
    "## Copyright (C) 2020 Sobhan Moradiyan Daghigh - All Rights Reserved\n",
    "#### 12/24/2020\n",
    "##    Implementation of ID3"
   ]
  },
  {
   "cell_type": "code",
   "execution_count": 1,
   "metadata": {},
   "outputs": [],
   "source": [
    "import numpy as np\n",
    "import pandas as pd\n",
    "\n",
    "eps = np.finfo(float).eps"
   ]
  },
  {
   "cell_type": "markdown",
   "metadata": {},
   "source": [
    "### Reading datasets "
   ]
  },
  {
   "cell_type": "code",
   "execution_count": 2,
   "metadata": {},
   "outputs": [],
   "source": [
    "train = pd.DataFrame(pd.read_csv('./datasets/train.csv'))"
   ]
  },
  {
   "cell_type": "code",
   "execution_count": 3,
   "metadata": {},
   "outputs": [
    {
     "data": {
      "text/html": [
       "<div>\n",
       "<style scoped>\n",
       "    .dataframe tbody tr th:only-of-type {\n",
       "        vertical-align: middle;\n",
       "    }\n",
       "\n",
       "    .dataframe tbody tr th {\n",
       "        vertical-align: top;\n",
       "    }\n",
       "\n",
       "    .dataframe thead th {\n",
       "        text-align: right;\n",
       "    }\n",
       "</style>\n",
       "<table border=\"1\" class=\"dataframe\">\n",
       "  <thead>\n",
       "    <tr style=\"text-align: right;\">\n",
       "      <th></th>\n",
       "      <th>PassengerId</th>\n",
       "      <th>Pclass</th>\n",
       "      <th>Name</th>\n",
       "      <th>Sex</th>\n",
       "      <th>Age</th>\n",
       "      <th>SibSp</th>\n",
       "      <th>Parch</th>\n",
       "      <th>Ticket</th>\n",
       "      <th>Fare</th>\n",
       "      <th>Cabin</th>\n",
       "      <th>Embarked</th>\n",
       "      <th>Survived</th>\n",
       "    </tr>\n",
       "  </thead>\n",
       "  <tbody>\n",
       "    <tr>\n",
       "      <th>0</th>\n",
       "      <td>484</td>\n",
       "      <td>3</td>\n",
       "      <td>Turkula, Mrs. (Hedwig)</td>\n",
       "      <td>female</td>\n",
       "      <td>63.0</td>\n",
       "      <td>0</td>\n",
       "      <td>0</td>\n",
       "      <td>4134.0</td>\n",
       "      <td>9.5875</td>\n",
       "      <td>NaN</td>\n",
       "      <td>S</td>\n",
       "      <td>1</td>\n",
       "    </tr>\n",
       "    <tr>\n",
       "      <th>1</th>\n",
       "      <td>276</td>\n",
       "      <td>1</td>\n",
       "      <td>Andrews, Miss. Kornelia Theodosia</td>\n",
       "      <td>female</td>\n",
       "      <td>63.0</td>\n",
       "      <td>1</td>\n",
       "      <td>0</td>\n",
       "      <td>13502.0</td>\n",
       "      <td>77.9583</td>\n",
       "      <td>D7</td>\n",
       "      <td>S</td>\n",
       "      <td>1</td>\n",
       "    </tr>\n",
       "    <tr>\n",
       "      <th>2</th>\n",
       "      <td>223</td>\n",
       "      <td>3</td>\n",
       "      <td>Green, Mr. George Henry</td>\n",
       "      <td>male</td>\n",
       "      <td>51.0</td>\n",
       "      <td>0</td>\n",
       "      <td>0</td>\n",
       "      <td>21440.0</td>\n",
       "      <td>8.0500</td>\n",
       "      <td>NaN</td>\n",
       "      <td>S</td>\n",
       "      <td>0</td>\n",
       "    </tr>\n",
       "    <tr>\n",
       "      <th>3</th>\n",
       "      <td>632</td>\n",
       "      <td>3</td>\n",
       "      <td>Lundahl, Mr. Johan Svensson</td>\n",
       "      <td>male</td>\n",
       "      <td>51.0</td>\n",
       "      <td>0</td>\n",
       "      <td>0</td>\n",
       "      <td>347743.0</td>\n",
       "      <td>7.0542</td>\n",
       "      <td>NaN</td>\n",
       "      <td>S</td>\n",
       "      <td>0</td>\n",
       "    </tr>\n",
       "    <tr>\n",
       "      <th>4</th>\n",
       "      <td>26</td>\n",
       "      <td>3</td>\n",
       "      <td>Asplund, Mrs. Carl Oscar (Selma Augusta Emilia...</td>\n",
       "      <td>female</td>\n",
       "      <td>38.0</td>\n",
       "      <td>1</td>\n",
       "      <td>5</td>\n",
       "      <td>347077.0</td>\n",
       "      <td>31.3875</td>\n",
       "      <td>NaN</td>\n",
       "      <td>S</td>\n",
       "      <td>1</td>\n",
       "    </tr>\n",
       "  </tbody>\n",
       "</table>\n",
       "</div>"
      ],
      "text/plain": [
       "   PassengerId  Pclass                                               Name  \\\n",
       "0          484       3                             Turkula, Mrs. (Hedwig)   \n",
       "1          276       1                  Andrews, Miss. Kornelia Theodosia   \n",
       "2          223       3                            Green, Mr. George Henry   \n",
       "3          632       3                        Lundahl, Mr. Johan Svensson   \n",
       "4           26       3  Asplund, Mrs. Carl Oscar (Selma Augusta Emilia...   \n",
       "\n",
       "      Sex   Age  SibSp  Parch    Ticket     Fare Cabin Embarked  Survived  \n",
       "0  female  63.0      0      0    4134.0   9.5875   NaN        S         1  \n",
       "1  female  63.0      1      0   13502.0  77.9583    D7        S         1  \n",
       "2    male  51.0      0      0   21440.0   8.0500   NaN        S         0  \n",
       "3    male  51.0      0      0  347743.0   7.0542   NaN        S         0  \n",
       "4  female  38.0      1      5  347077.0  31.3875   NaN        S         1  "
      ]
     },
     "execution_count": 3,
     "metadata": {},
     "output_type": "execute_result"
    }
   ],
   "source": [
    "train.head()"
   ]
  },
  {
   "cell_type": "code",
   "execution_count": 4,
   "metadata": {},
   "outputs": [
    {
     "data": {
      "text/html": [
       "<div>\n",
       "<style scoped>\n",
       "    .dataframe tbody tr th:only-of-type {\n",
       "        vertical-align: middle;\n",
       "    }\n",
       "\n",
       "    .dataframe tbody tr th {\n",
       "        vertical-align: top;\n",
       "    }\n",
       "\n",
       "    .dataframe thead th {\n",
       "        text-align: right;\n",
       "    }\n",
       "</style>\n",
       "<table border=\"1\" class=\"dataframe\">\n",
       "  <thead>\n",
       "    <tr style=\"text-align: right;\">\n",
       "      <th></th>\n",
       "      <th>PassengerId</th>\n",
       "      <th>Pclass</th>\n",
       "      <th>Age</th>\n",
       "      <th>SibSp</th>\n",
       "      <th>Parch</th>\n",
       "      <th>Ticket</th>\n",
       "      <th>Fare</th>\n",
       "      <th>Survived</th>\n",
       "    </tr>\n",
       "  </thead>\n",
       "  <tbody>\n",
       "    <tr>\n",
       "      <th>count</th>\n",
       "      <td>800.000000</td>\n",
       "      <td>800.000000</td>\n",
       "      <td>640.000000</td>\n",
       "      <td>800.000000</td>\n",
       "      <td>800.000000</td>\n",
       "      <td>5.890000e+02</td>\n",
       "      <td>800.000000</td>\n",
       "      <td>800.0000</td>\n",
       "    </tr>\n",
       "    <tr>\n",
       "      <th>mean</th>\n",
       "      <td>447.867500</td>\n",
       "      <td>2.311250</td>\n",
       "      <td>29.632031</td>\n",
       "      <td>0.541250</td>\n",
       "      <td>0.387500</td>\n",
       "      <td>2.649668e+05</td>\n",
       "      <td>32.592395</td>\n",
       "      <td>0.3850</td>\n",
       "    </tr>\n",
       "    <tr>\n",
       "      <th>std</th>\n",
       "      <td>258.858126</td>\n",
       "      <td>0.835312</td>\n",
       "      <td>14.617948</td>\n",
       "      <td>1.139044</td>\n",
       "      <td>0.811275</td>\n",
       "      <td>4.819212e+05</td>\n",
       "      <td>50.726982</td>\n",
       "      <td>0.4869</td>\n",
       "    </tr>\n",
       "    <tr>\n",
       "      <th>min</th>\n",
       "      <td>1.000000</td>\n",
       "      <td>1.000000</td>\n",
       "      <td>0.670000</td>\n",
       "      <td>0.000000</td>\n",
       "      <td>0.000000</td>\n",
       "      <td>6.950000e+02</td>\n",
       "      <td>0.000000</td>\n",
       "      <td>0.0000</td>\n",
       "    </tr>\n",
       "    <tr>\n",
       "      <th>25%</th>\n",
       "      <td>224.750000</td>\n",
       "      <td>2.000000</td>\n",
       "      <td>20.000000</td>\n",
       "      <td>0.000000</td>\n",
       "      <td>0.000000</td>\n",
       "      <td>2.416000e+04</td>\n",
       "      <td>7.925000</td>\n",
       "      <td>0.0000</td>\n",
       "    </tr>\n",
       "    <tr>\n",
       "      <th>50%</th>\n",
       "      <td>449.500000</td>\n",
       "      <td>3.000000</td>\n",
       "      <td>28.000000</td>\n",
       "      <td>0.000000</td>\n",
       "      <td>0.000000</td>\n",
       "      <td>2.361710e+05</td>\n",
       "      <td>14.500000</td>\n",
       "      <td>0.0000</td>\n",
       "    </tr>\n",
       "    <tr>\n",
       "      <th>75%</th>\n",
       "      <td>677.250000</td>\n",
       "      <td>3.000000</td>\n",
       "      <td>38.000000</td>\n",
       "      <td>1.000000</td>\n",
       "      <td>0.000000</td>\n",
       "      <td>3.477430e+05</td>\n",
       "      <td>31.275000</td>\n",
       "      <td>1.0000</td>\n",
       "    </tr>\n",
       "    <tr>\n",
       "      <th>max</th>\n",
       "      <td>891.000000</td>\n",
       "      <td>3.000000</td>\n",
       "      <td>80.000000</td>\n",
       "      <td>8.000000</td>\n",
       "      <td>6.000000</td>\n",
       "      <td>3.101298e+06</td>\n",
       "      <td>512.329200</td>\n",
       "      <td>1.0000</td>\n",
       "    </tr>\n",
       "  </tbody>\n",
       "</table>\n",
       "</div>"
      ],
      "text/plain": [
       "       PassengerId      Pclass         Age       SibSp       Parch  \\\n",
       "count   800.000000  800.000000  640.000000  800.000000  800.000000   \n",
       "mean    447.867500    2.311250   29.632031    0.541250    0.387500   \n",
       "std     258.858126    0.835312   14.617948    1.139044    0.811275   \n",
       "min       1.000000    1.000000    0.670000    0.000000    0.000000   \n",
       "25%     224.750000    2.000000   20.000000    0.000000    0.000000   \n",
       "50%     449.500000    3.000000   28.000000    0.000000    0.000000   \n",
       "75%     677.250000    3.000000   38.000000    1.000000    0.000000   \n",
       "max     891.000000    3.000000   80.000000    8.000000    6.000000   \n",
       "\n",
       "             Ticket        Fare  Survived  \n",
       "count  5.890000e+02  800.000000  800.0000  \n",
       "mean   2.649668e+05   32.592395    0.3850  \n",
       "std    4.819212e+05   50.726982    0.4869  \n",
       "min    6.950000e+02    0.000000    0.0000  \n",
       "25%    2.416000e+04    7.925000    0.0000  \n",
       "50%    2.361710e+05   14.500000    0.0000  \n",
       "75%    3.477430e+05   31.275000    1.0000  \n",
       "max    3.101298e+06  512.329200    1.0000  "
      ]
     },
     "execution_count": 4,
     "metadata": {},
     "output_type": "execute_result"
    }
   ],
   "source": [
    "train.describe()"
   ]
  },
  {
   "cell_type": "code",
   "execution_count": 5,
   "metadata": {},
   "outputs": [
    {
     "name": "stdout",
     "output_type": "stream",
     "text": [
      "<class 'pandas.core.frame.DataFrame'>\n",
      "RangeIndex: 800 entries, 0 to 799\n",
      "Data columns (total 12 columns):\n",
      " #   Column       Non-Null Count  Dtype  \n",
      "---  ------       --------------  -----  \n",
      " 0   PassengerId  800 non-null    int64  \n",
      " 1   Pclass       800 non-null    int64  \n",
      " 2   Name         800 non-null    object \n",
      " 3   Sex          800 non-null    object \n",
      " 4   Age          640 non-null    float64\n",
      " 5   SibSp        800 non-null    int64  \n",
      " 6   Parch        800 non-null    int64  \n",
      " 7   Ticket       589 non-null    float64\n",
      " 8   Fare         800 non-null    float64\n",
      " 9   Cabin        183 non-null    object \n",
      " 10  Embarked     800 non-null    object \n",
      " 11  Survived     800 non-null    int64  \n",
      "dtypes: float64(3), int64(5), object(4)\n",
      "memory usage: 75.1+ KB\n"
     ]
    }
   ],
   "source": [
    "train.info()"
   ]
  },
  {
   "cell_type": "markdown",
   "metadata": {},
   "source": [
    "#### Therefore, it seems that (Age, Ticket, Cabin) columns have missing values."
   ]
  },
  {
   "cell_type": "markdown",
   "metadata": {},
   "source": [
    "### Ok now make a preprocess on attrs including define thresholds for non-categorical attrs."
   ]
  },
  {
   "cell_type": "markdown",
   "metadata": {},
   "source": [
    "#### Usefull attrs: { 'Pclass' - 'Sex' - 'Age' - 'Cabin' - 'Embarked' }"
   ]
  },
  {
   "cell_type": "code",
   "execution_count": 6,
   "metadata": {},
   "outputs": [],
   "source": [
    "# TODO:"
   ]
  },
  {
   "cell_type": "code",
   "execution_count": 7,
   "metadata": {},
   "outputs": [],
   "source": [
    "# tests ---------------------------------"
   ]
  },
  {
   "cell_type": "code",
   "execution_count": 8,
   "metadata": {},
   "outputs": [],
   "source": [
    "# class_survived = train.groupby(by=['Sex', 'Age', 'Survived'])\n",
    "# class_survived.first()"
   ]
  },
  {
   "cell_type": "code",
   "execution_count": 9,
   "metadata": {},
   "outputs": [],
   "source": [
    "# for grp, pdf in class_survived:\n",
    "#     print(\"Pclass: \", grp[0], \"   Age: \", grp[1], \"    Survived: \", grp[2], \"   count: \", len(pdf))"
   ]
  },
  {
   "cell_type": "code",
   "execution_count": null,
   "metadata": {},
   "outputs": [],
   "source": []
  },
  {
   "cell_type": "code",
   "execution_count": null,
   "metadata": {},
   "outputs": [],
   "source": []
  },
  {
   "cell_type": "code",
   "execution_count": 10,
   "metadata": {},
   "outputs": [],
   "source": [
    "# classes = train.groupby(by=['Pclass', 'Cabin'])\n",
    "# classes.first()"
   ]
  },
  {
   "cell_type": "code",
   "execution_count": 11,
   "metadata": {},
   "outputs": [],
   "source": [
    "# for grp, pdf in classes:\n",
    "#     print(grp,\"  \", pdf['Survived'].tolist())"
   ]
  },
  {
   "cell_type": "code",
   "execution_count": null,
   "metadata": {},
   "outputs": [],
   "source": []
  },
  {
   "cell_type": "code",
   "execution_count": 12,
   "metadata": {},
   "outputs": [],
   "source": [
    "# age = train.groupby(by=['Age'])\n",
    "# age.first()"
   ]
  },
  {
   "cell_type": "code",
   "execution_count": 13,
   "metadata": {},
   "outputs": [],
   "source": [
    "# arr = []\n",
    "# for grp, pdf in age:\n",
    "# #     num = float(\"{:.2f}\".format(get_percentage(pdf['Survived'].tolist())))\n",
    "#     num = pdf['Survived'].tolist()\n",
    "#     arr.append([num, grp])\n",
    "#     print(grp,\"  \", num)"
   ]
  },
  {
   "cell_type": "code",
   "execution_count": null,
   "metadata": {},
   "outputs": [],
   "source": []
  },
  {
   "cell_type": "code",
   "execution_count": 14,
   "metadata": {},
   "outputs": [],
   "source": [
    "# def get_percentage(arr):\n",
    "#     zeros = 0\n",
    "#     ones = 0\n",
    "    \n",
    "#     for ele in arr:\n",
    "#         if ele == 0:\n",
    "#             zeros +=1\n",
    "#         else:\n",
    "#             ones += 1\n",
    "            \n",
    "#     return ones / (zeros + ones)"
   ]
  },
  {
   "cell_type": "code",
   "execution_count": null,
   "metadata": {},
   "outputs": [],
   "source": []
  },
  {
   "cell_type": "code",
   "execution_count": 15,
   "metadata": {},
   "outputs": [],
   "source": [
    "# def choose_best_threshold(arr):\n",
    "#     zeros = 0\n",
    "#     ones = 1\n",
    "        \n",
    "    \n",
    "#     for ele2 in arr:\n",
    "#         if np.divide(ones, np.add(ones + eps, zeros)) > 0.5:\n",
    "#             for ele in ele2[0]:\n",
    "#                 if ele == 0: \n",
    "#                     zeros +=1\n",
    "#                 else:\n",
    "#                     ones += 1\n",
    "            \n",
    "#             print(ele2[1], \"   \", np.divide(ones, np.add(ones + eps, zeros)))\n",
    "#         else: \n",
    "#             print(\"dddddd\" , ele2[1])\n",
    "#             return\n",
    "        \n",
    "#     return np.divide(zeros, np.add(ones + eps, zeros))\n",
    "    "
   ]
  },
  {
   "cell_type": "code",
   "execution_count": 16,
   "metadata": {},
   "outputs": [],
   "source": [
    "# choose_best_threshold(arr)"
   ]
  },
  {
   "cell_type": "code",
   "execution_count": null,
   "metadata": {},
   "outputs": [],
   "source": []
  },
  {
   "cell_type": "code",
   "execution_count": 17,
   "metadata": {},
   "outputs": [],
   "source": [
    "# for age_index in train[train['Age'].isnull()].index.tolist():\n",
    "#     if train['Survived'][age_index] == 1:\n",
    "#         train['Age'][age_index] = 13\n",
    "#     else: \n",
    "#         train['Age'][age_index] = 75\n",
    "        \n",
    "# train[train['Age'].isnull()].index.tolist()"
   ]
  },
  {
   "cell_type": "code",
   "execution_count": 18,
   "metadata": {},
   "outputs": [],
   "source": [
    "# train.info()"
   ]
  },
  {
   "cell_type": "code",
   "execution_count": null,
   "metadata": {},
   "outputs": [],
   "source": []
  },
  {
   "cell_type": "code",
   "execution_count": 19,
   "metadata": {
    "scrolled": false
   },
   "outputs": [],
   "source": [
    "# train = train[train['Age'].notna()]\n",
    "# train.info()"
   ]
  },
  {
   "cell_type": "code",
   "execution_count": null,
   "metadata": {},
   "outputs": [],
   "source": []
  },
  {
   "cell_type": "code",
   "execution_count": 20,
   "metadata": {},
   "outputs": [],
   "source": [
    "# End of tests ----------------------------------------------"
   ]
  },
  {
   "cell_type": "code",
   "execution_count": null,
   "metadata": {},
   "outputs": [],
   "source": []
  },
  {
   "cell_type": "code",
   "execution_count": 21,
   "metadata": {},
   "outputs": [],
   "source": [
    "attrs = ['Pclass', 'Sex', 'Age', 'Embarked']"
   ]
  },
  {
   "cell_type": "markdown",
   "metadata": {},
   "source": [
    "###  Summary of Survived lables."
   ]
  },
  {
   "cell_type": "code",
   "execution_count": 22,
   "metadata": {},
   "outputs": [
    {
     "data": {
      "text/plain": [
       "0    492\n",
       "1    308\n",
       "Name: Survived, dtype: int64"
      ]
     },
     "execution_count": 22,
     "metadata": {},
     "output_type": "execute_result"
    }
   ],
   "source": [
    "train['Survived'].value_counts()"
   ]
  },
  {
   "cell_type": "markdown",
   "metadata": {},
   "source": [
    "### Ok let's define a function for calculating Entropy"
   ]
  },
  {
   "cell_type": "code",
   "execution_count": 23,
   "metadata": {},
   "outputs": [],
   "source": [
    "def get_entropy(dataset, attr):\n",
    "    entropy = 0\n",
    "    \n",
    "    labels   = dataset['Survived'].unique()         # 0: dead, 1: alived\n",
    "    features = dataset[attr].unique()              # Each feature for an attr. e.g. Sex attr has (Female, Male) features. \n",
    "    \n",
    "    for feature in features:\n",
    "        feature_entropy = 0\n",
    "        \n",
    "        for label in labels:\n",
    "            cnt_of_each_grp = len(dataset[attr][dataset[attr]==feature][dataset['Survived']==label])\n",
    "            cnt_of_all = len(dataset[attr][dataset[attr]==feature])\n",
    "            fraction = np.divide(cnt_of_each_grp, np.add(cnt_of_all, eps))\n",
    "            if fraction == 0:\n",
    "                feature_entropy += 1   \n",
    "            else: \n",
    "                feature_entropy += np.multiply(-fraction, np.log2(fraction))               \n",
    "        \n",
    "        fraction_of_features = np.divide(cnt_of_all, np.add(len(dataset), eps))\n",
    "        entropy += np.multiply(fraction_of_features, feature_entropy)\n",
    "        return entropy"
   ]
  },
  {
   "cell_type": "markdown",
   "metadata": {},
   "source": [
    "### And another one for calculating root entropy "
   ]
  },
  {
   "cell_type": "code",
   "execution_count": 24,
   "metadata": {},
   "outputs": [],
   "source": [
    "def get_root_entropy(dataset):\n",
    "    entropy = 0\n",
    "    \n",
    "    labels = dataset['Survived'].unique()         # 0: dead, 1: alived\n",
    "    \n",
    "    for label in labels:\n",
    "        cnt_of_each_grp = dataset['Survived'].value_counts()[label]\n",
    "        cnt_of_all = len(dataset['Survived'])\n",
    "        fraction = np.divide(cnt_of_each_grp, np.add(cnt_of_all, eps))\n",
    "        entropy += np.multiply(-fraction, np.log2(fraction))               \n",
    "    \n",
    "    return entropy"
   ]
  },
  {
   "cell_type": "markdown",
   "metadata": {},
   "source": [
    "### And finaly a function for calculating Information Gain (IG)"
   ]
  },
  {
   "cell_type": "code",
   "execution_count": 25,
   "metadata": {},
   "outputs": [],
   "source": [
    "def get_information_gain(dataset, attr):\n",
    "    root_entropy = get_root_entropy(dataset)\n",
    "    attr_entropy = get_entropy(dataset, attr)\n",
    "    \n",
    "    ig = root_entropy - attr_entropy\n",
    "    \n",
    "    return ig"
   ]
  },
  {
   "cell_type": "code",
   "execution_count": null,
   "metadata": {},
   "outputs": [],
   "source": []
  },
  {
   "cell_type": "code",
   "execution_count": 26,
   "metadata": {},
   "outputs": [
    {
     "data": {
      "text/plain": [
       "0.9614969508235551"
      ]
     },
     "execution_count": 26,
     "metadata": {},
     "output_type": "execute_result"
    }
   ],
   "source": [
    "get_root_entropy(train)"
   ]
  },
  {
   "cell_type": "code",
   "execution_count": 27,
   "metadata": {},
   "outputs": [
    {
     "name": "stdout",
     "output_type": "stream",
     "text": [
      "Entropy of each atrr: \n"
     ]
    },
    {
     "data": {
      "text/plain": [
       "{'Pclass': 0.4432098091637809,\n",
       " 'Sex': 0.28643773973420256,\n",
       " 'Age': 0.0025,\n",
       " 'Embarked': 0.6734013070701766}"
      ]
     },
     "execution_count": 27,
     "metadata": {},
     "output_type": "execute_result"
    }
   ],
   "source": [
    "entropy = {k:get_entropy(train, k) for k in attrs}\n",
    "print(\"Entropy of each atrr: \")\n",
    "entropy"
   ]
  },
  {
   "cell_type": "code",
   "execution_count": 28,
   "metadata": {},
   "outputs": [
    {
     "name": "stdout",
     "output_type": "stream",
     "text": [
      "IG of each atrr: \n"
     ]
    },
    {
     "data": {
      "text/plain": [
       "{'Pclass': 0.5182871416597743,\n",
       " 'Sex': 0.6750592110893525,\n",
       " 'Age': 0.9589969508235552,\n",
       " 'Embarked': 0.2880956437533785}"
      ]
     },
     "execution_count": 28,
     "metadata": {},
     "output_type": "execute_result"
    }
   ],
   "source": [
    "ig = {k:get_information_gain(train, k) for k in attrs}\n",
    "print(\"IG of each atrr: \")\n",
    "ig"
   ]
  },
  {
   "cell_type": "markdown",
   "metadata": {},
   "source": [
    "#### Therefore, till now 'Sex' attr is the best one"
   ]
  },
  {
   "cell_type": "code",
   "execution_count": null,
   "metadata": {},
   "outputs": [],
   "source": []
  },
  {
   "cell_type": "markdown",
   "metadata": {},
   "source": [
    "### Define a func which choose the largest information gain for each iterate."
   ]
  },
  {
   "cell_type": "code",
   "execution_count": 29,
   "metadata": {},
   "outputs": [],
   "source": [
    "def get_best_ig(ig):\n",
    "    best = max(ig.values())\n",
    "    attr_index = list(ig.values()).index(best)\n",
    "    attr_name  = list(ig.keys())[attr_index]\n",
    "    return attr_name"
   ]
  },
  {
   "cell_type": "code",
   "execution_count": 30,
   "metadata": {},
   "outputs": [
    {
     "data": {
      "text/plain": [
       "'Age'"
      ]
     },
     "execution_count": 30,
     "metadata": {},
     "output_type": "execute_result"
    }
   ],
   "source": [
    "get_best_ig(ig)"
   ]
  },
  {
   "cell_type": "markdown",
   "metadata": {},
   "source": [
    "### Define a func which returns the subtree for each node."
   ]
  },
  {
   "cell_type": "code",
   "execution_count": 31,
   "metadata": {},
   "outputs": [],
   "source": [
    "def get_subtree_df(dataset, attr, feature):\n",
    "    return pd.DataFrame(dataset[dataset[attr] == feature].reset_index(drop=True))"
   ]
  },
  {
   "cell_type": "markdown",
   "metadata": {},
   "source": [
    "### Defind a func for checking purity of nodes."
   ]
  },
  {
   "cell_type": "code",
   "execution_count": 32,
   "metadata": {},
   "outputs": [],
   "source": [
    "def check_purity(dataset, subtree):\n",
    "    alived = 0\n",
    "    dead = 0\n",
    "    \n",
    "    for person in subtree['Survived']:\n",
    "        if person == 0:\n",
    "            dead += 1\n",
    "        elif person == 1:\n",
    "            alived += 1\n",
    "    \n",
    "    percentage = np.divide(max(alived, dead), np.add(alived, dead))\n",
    "    if percentage > 0.9:\n",
    "        return 1, [1 if alived > dead else 0]    # Pure\n",
    "    elif percentage > 0:\n",
    "        return 0, [1 if alived > dead else 0]    # Not pure\n",
    "    else:\n",
    "        return -1, _     # Theres not any instance of this feature in this subtree "
   ]
  },
  {
   "cell_type": "markdown",
   "metadata": {},
   "source": [
    "### And finally the main function for making the tree."
   ]
  },
  {
   "cell_type": "code",
   "execution_count": 33,
   "metadata": {},
   "outputs": [],
   "source": [
    "def iterate_tree(dataset, attrs, ig_list, subtree):\n",
    "\n",
    "    node = get_best_ig(ig_list)\n",
    "    ig_list.pop(node, None)\n",
    "    \n",
    "    features = dataset[node].unique()\n",
    "    \n",
    "    # Create a dictionary for our tree, just onece\n",
    "    tree = {}\n",
    "    tree[node] = {}\n",
    "    \n",
    "    for feature in features:\n",
    "        sub = get_subtree_df(subtree, node, feature)\n",
    "        purity, won_class = check_purity(dataset, sub)\n",
    "            \n",
    "        if purity == 1:\n",
    "            tree[node][feature] = won_class    \n",
    "            \n",
    "        elif purity == 0:\n",
    "            if not ig_list:\n",
    "                tree[node][feature] = \"fault\" #won_class\n",
    "            else:\n",
    "                ig_lst = ig_list.copy()\n",
    "                tree[node][feature] = iterate_tree(dataset, attrs, ig_lst, sub)\n",
    "        else:\n",
    "            continue\n",
    "    return tree"
   ]
  },
  {
   "cell_type": "code",
   "execution_count": 34,
   "metadata": {},
   "outputs": [
    {
     "name": "stderr",
     "output_type": "stream",
     "text": [
      "<ipython-input-32-305c0168837f>:11: RuntimeWarning: invalid value encountered in true_divide\n",
      "  percentage = np.divide(max(alived, dead), np.add(alived, dead))\n",
      "<ipython-input-32-305c0168837f>:11: RuntimeWarning: invalid value encountered in true_divide\n",
      "  percentage = np.divide(max(alived, dead), np.add(alived, dead))\n",
      "<ipython-input-32-305c0168837f>:11: RuntimeWarning: invalid value encountered in true_divide\n",
      "  percentage = np.divide(max(alived, dead), np.add(alived, dead))\n",
      "<ipython-input-32-305c0168837f>:11: RuntimeWarning: invalid value encountered in true_divide\n",
      "  percentage = np.divide(max(alived, dead), np.add(alived, dead))\n",
      "<ipython-input-32-305c0168837f>:11: RuntimeWarning: invalid value encountered in true_divide\n",
      "  percentage = np.divide(max(alived, dead), np.add(alived, dead))\n",
      "<ipython-input-32-305c0168837f>:11: RuntimeWarning: invalid value encountered in true_divide\n",
      "  percentage = np.divide(max(alived, dead), np.add(alived, dead))\n",
      "<ipython-input-32-305c0168837f>:11: RuntimeWarning: invalid value encountered in true_divide\n",
      "  percentage = np.divide(max(alived, dead), np.add(alived, dead))\n",
      "<ipython-input-32-305c0168837f>:11: RuntimeWarning: invalid value encountered in true_divide\n",
      "  percentage = np.divide(max(alived, dead), np.add(alived, dead))\n",
      "<ipython-input-32-305c0168837f>:11: RuntimeWarning: invalid value encountered in true_divide\n",
      "  percentage = np.divide(max(alived, dead), np.add(alived, dead))\n",
      "<ipython-input-32-305c0168837f>:11: RuntimeWarning: invalid value encountered in true_divide\n",
      "  percentage = np.divide(max(alived, dead), np.add(alived, dead))\n",
      "<ipython-input-32-305c0168837f>:11: RuntimeWarning: invalid value encountered in true_divide\n",
      "  percentage = np.divide(max(alived, dead), np.add(alived, dead))\n",
      "<ipython-input-32-305c0168837f>:11: RuntimeWarning: invalid value encountered in true_divide\n",
      "  percentage = np.divide(max(alived, dead), np.add(alived, dead))\n",
      "<ipython-input-32-305c0168837f>:11: RuntimeWarning: invalid value encountered in true_divide\n",
      "  percentage = np.divide(max(alived, dead), np.add(alived, dead))\n",
      "<ipython-input-32-305c0168837f>:11: RuntimeWarning: invalid value encountered in true_divide\n",
      "  percentage = np.divide(max(alived, dead), np.add(alived, dead))\n",
      "<ipython-input-32-305c0168837f>:11: RuntimeWarning: invalid value encountered in true_divide\n",
      "  percentage = np.divide(max(alived, dead), np.add(alived, dead))\n",
      "<ipython-input-32-305c0168837f>:11: RuntimeWarning: invalid value encountered in true_divide\n",
      "  percentage = np.divide(max(alived, dead), np.add(alived, dead))\n",
      "<ipython-input-32-305c0168837f>:11: RuntimeWarning: invalid value encountered in true_divide\n",
      "  percentage = np.divide(max(alived, dead), np.add(alived, dead))\n",
      "<ipython-input-32-305c0168837f>:11: RuntimeWarning: invalid value encountered in true_divide\n",
      "  percentage = np.divide(max(alived, dead), np.add(alived, dead))\n",
      "<ipython-input-32-305c0168837f>:11: RuntimeWarning: invalid value encountered in true_divide\n",
      "  percentage = np.divide(max(alived, dead), np.add(alived, dead))\n",
      "<ipython-input-32-305c0168837f>:11: RuntimeWarning: invalid value encountered in true_divide\n",
      "  percentage = np.divide(max(alived, dead), np.add(alived, dead))\n",
      "<ipython-input-32-305c0168837f>:11: RuntimeWarning: invalid value encountered in true_divide\n",
      "  percentage = np.divide(max(alived, dead), np.add(alived, dead))\n",
      "<ipython-input-32-305c0168837f>:11: RuntimeWarning: invalid value encountered in true_divide\n",
      "  percentage = np.divide(max(alived, dead), np.add(alived, dead))\n",
      "<ipython-input-32-305c0168837f>:11: RuntimeWarning: invalid value encountered in true_divide\n",
      "  percentage = np.divide(max(alived, dead), np.add(alived, dead))\n",
      "<ipython-input-32-305c0168837f>:11: RuntimeWarning: invalid value encountered in true_divide\n",
      "  percentage = np.divide(max(alived, dead), np.add(alived, dead))\n",
      "<ipython-input-32-305c0168837f>:11: RuntimeWarning: invalid value encountered in true_divide\n",
      "  percentage = np.divide(max(alived, dead), np.add(alived, dead))\n",
      "<ipython-input-32-305c0168837f>:11: RuntimeWarning: invalid value encountered in true_divide\n",
      "  percentage = np.divide(max(alived, dead), np.add(alived, dead))\n",
      "<ipython-input-32-305c0168837f>:11: RuntimeWarning: invalid value encountered in true_divide\n",
      "  percentage = np.divide(max(alived, dead), np.add(alived, dead))\n",
      "<ipython-input-32-305c0168837f>:11: RuntimeWarning: invalid value encountered in true_divide\n",
      "  percentage = np.divide(max(alived, dead), np.add(alived, dead))\n",
      "<ipython-input-32-305c0168837f>:11: RuntimeWarning: invalid value encountered in true_divide\n",
      "  percentage = np.divide(max(alived, dead), np.add(alived, dead))\n",
      "<ipython-input-32-305c0168837f>:11: RuntimeWarning: invalid value encountered in true_divide\n",
      "  percentage = np.divide(max(alived, dead), np.add(alived, dead))\n",
      "<ipython-input-32-305c0168837f>:11: RuntimeWarning: invalid value encountered in true_divide\n",
      "  percentage = np.divide(max(alived, dead), np.add(alived, dead))\n",
      "<ipython-input-32-305c0168837f>:11: RuntimeWarning: invalid value encountered in true_divide\n",
      "  percentage = np.divide(max(alived, dead), np.add(alived, dead))\n",
      "<ipython-input-32-305c0168837f>:11: RuntimeWarning: invalid value encountered in true_divide\n",
      "  percentage = np.divide(max(alived, dead), np.add(alived, dead))\n",
      "<ipython-input-32-305c0168837f>:11: RuntimeWarning: invalid value encountered in true_divide\n",
      "  percentage = np.divide(max(alived, dead), np.add(alived, dead))\n",
      "<ipython-input-32-305c0168837f>:11: RuntimeWarning: invalid value encountered in true_divide\n",
      "  percentage = np.divide(max(alived, dead), np.add(alived, dead))\n",
      "<ipython-input-32-305c0168837f>:11: RuntimeWarning: invalid value encountered in true_divide\n",
      "  percentage = np.divide(max(alived, dead), np.add(alived, dead))\n",
      "<ipython-input-32-305c0168837f>:11: RuntimeWarning: invalid value encountered in true_divide\n",
      "  percentage = np.divide(max(alived, dead), np.add(alived, dead))\n",
      "<ipython-input-32-305c0168837f>:11: RuntimeWarning: invalid value encountered in true_divide\n",
      "  percentage = np.divide(max(alived, dead), np.add(alived, dead))\n",
      "<ipython-input-32-305c0168837f>:11: RuntimeWarning: invalid value encountered in true_divide\n",
      "  percentage = np.divide(max(alived, dead), np.add(alived, dead))\n",
      "<ipython-input-32-305c0168837f>:11: RuntimeWarning: invalid value encountered in true_divide\n",
      "  percentage = np.divide(max(alived, dead), np.add(alived, dead))\n",
      "<ipython-input-32-305c0168837f>:11: RuntimeWarning: invalid value encountered in true_divide\n",
      "  percentage = np.divide(max(alived, dead), np.add(alived, dead))\n",
      "<ipython-input-32-305c0168837f>:11: RuntimeWarning: invalid value encountered in true_divide\n",
      "  percentage = np.divide(max(alived, dead), np.add(alived, dead))\n",
      "<ipython-input-32-305c0168837f>:11: RuntimeWarning: invalid value encountered in true_divide\n",
      "  percentage = np.divide(max(alived, dead), np.add(alived, dead))\n",
      "<ipython-input-32-305c0168837f>:11: RuntimeWarning: invalid value encountered in true_divide\n",
      "  percentage = np.divide(max(alived, dead), np.add(alived, dead))\n",
      "<ipython-input-32-305c0168837f>:11: RuntimeWarning: invalid value encountered in true_divide\n",
      "  percentage = np.divide(max(alived, dead), np.add(alived, dead))\n",
      "<ipython-input-32-305c0168837f>:11: RuntimeWarning: invalid value encountered in true_divide\n",
      "  percentage = np.divide(max(alived, dead), np.add(alived, dead))\n",
      "<ipython-input-32-305c0168837f>:11: RuntimeWarning: invalid value encountered in true_divide\n",
      "  percentage = np.divide(max(alived, dead), np.add(alived, dead))\n",
      "<ipython-input-32-305c0168837f>:11: RuntimeWarning: invalid value encountered in true_divide\n",
      "  percentage = np.divide(max(alived, dead), np.add(alived, dead))\n",
      "<ipython-input-32-305c0168837f>:11: RuntimeWarning: invalid value encountered in true_divide\n",
      "  percentage = np.divide(max(alived, dead), np.add(alived, dead))\n",
      "<ipython-input-32-305c0168837f>:11: RuntimeWarning: invalid value encountered in true_divide\n",
      "  percentage = np.divide(max(alived, dead), np.add(alived, dead))\n",
      "<ipython-input-32-305c0168837f>:11: RuntimeWarning: invalid value encountered in true_divide\n",
      "  percentage = np.divide(max(alived, dead), np.add(alived, dead))\n",
      "<ipython-input-32-305c0168837f>:11: RuntimeWarning: invalid value encountered in true_divide\n",
      "  percentage = np.divide(max(alived, dead), np.add(alived, dead))\n",
      "<ipython-input-32-305c0168837f>:11: RuntimeWarning: invalid value encountered in true_divide\n",
      "  percentage = np.divide(max(alived, dead), np.add(alived, dead))\n",
      "<ipython-input-32-305c0168837f>:11: RuntimeWarning: invalid value encountered in true_divide\n",
      "  percentage = np.divide(max(alived, dead), np.add(alived, dead))\n",
      "<ipython-input-32-305c0168837f>:11: RuntimeWarning: invalid value encountered in true_divide\n",
      "  percentage = np.divide(max(alived, dead), np.add(alived, dead))\n",
      "<ipython-input-32-305c0168837f>:11: RuntimeWarning: invalid value encountered in true_divide\n",
      "  percentage = np.divide(max(alived, dead), np.add(alived, dead))\n",
      "<ipython-input-32-305c0168837f>:11: RuntimeWarning: invalid value encountered in true_divide\n",
      "  percentage = np.divide(max(alived, dead), np.add(alived, dead))\n",
      "<ipython-input-32-305c0168837f>:11: RuntimeWarning: invalid value encountered in true_divide\n",
      "  percentage = np.divide(max(alived, dead), np.add(alived, dead))\n",
      "<ipython-input-32-305c0168837f>:11: RuntimeWarning: invalid value encountered in true_divide\n",
      "  percentage = np.divide(max(alived, dead), np.add(alived, dead))\n",
      "<ipython-input-32-305c0168837f>:11: RuntimeWarning: invalid value encountered in true_divide\n",
      "  percentage = np.divide(max(alived, dead), np.add(alived, dead))\n",
      "<ipython-input-32-305c0168837f>:11: RuntimeWarning: invalid value encountered in true_divide\n",
      "  percentage = np.divide(max(alived, dead), np.add(alived, dead))\n",
      "<ipython-input-32-305c0168837f>:11: RuntimeWarning: invalid value encountered in true_divide\n",
      "  percentage = np.divide(max(alived, dead), np.add(alived, dead))\n",
      "<ipython-input-32-305c0168837f>:11: RuntimeWarning: invalid value encountered in true_divide\n",
      "  percentage = np.divide(max(alived, dead), np.add(alived, dead))\n",
      "<ipython-input-32-305c0168837f>:11: RuntimeWarning: invalid value encountered in true_divide\n",
      "  percentage = np.divide(max(alived, dead), np.add(alived, dead))\n",
      "<ipython-input-32-305c0168837f>:11: RuntimeWarning: invalid value encountered in true_divide\n",
      "  percentage = np.divide(max(alived, dead), np.add(alived, dead))\n",
      "<ipython-input-32-305c0168837f>:11: RuntimeWarning: invalid value encountered in true_divide\n",
      "  percentage = np.divide(max(alived, dead), np.add(alived, dead))\n",
      "<ipython-input-32-305c0168837f>:11: RuntimeWarning: invalid value encountered in true_divide\n",
      "  percentage = np.divide(max(alived, dead), np.add(alived, dead))\n",
      "<ipython-input-32-305c0168837f>:11: RuntimeWarning: invalid value encountered in true_divide\n",
      "  percentage = np.divide(max(alived, dead), np.add(alived, dead))\n",
      "<ipython-input-32-305c0168837f>:11: RuntimeWarning: invalid value encountered in true_divide\n",
      "  percentage = np.divide(max(alived, dead), np.add(alived, dead))\n",
      "<ipython-input-32-305c0168837f>:11: RuntimeWarning: invalid value encountered in true_divide\n",
      "  percentage = np.divide(max(alived, dead), np.add(alived, dead))\n",
      "<ipython-input-32-305c0168837f>:11: RuntimeWarning: invalid value encountered in true_divide\n",
      "  percentage = np.divide(max(alived, dead), np.add(alived, dead))\n",
      "<ipython-input-32-305c0168837f>:11: RuntimeWarning: invalid value encountered in true_divide\n",
      "  percentage = np.divide(max(alived, dead), np.add(alived, dead))\n"
     ]
    },
    {
     "data": {
      "text/plain": [
       "{'Age': {63.0: [1],\n",
       "  51.0: {'Sex': {'female': [1],\n",
       "    'male': {'Pclass': {3: [0],\n",
       "      1: {'Embarked': {'S': [1], 'C': [0]}},\n",
       "      2: [0]}}}},\n",
       "  38.0: {'Sex': {'female': {'Pclass': {3: [1], 1: [1], 2: [0]}},\n",
       "    'male': {'Pclass': {3: [0], 1: {'Embarked': {'S': 'fault'}}}}}},\n",
       "  34.0: {'Sex': {'female': [1], 'male': {'Pclass': {3: [0], 1: [1], 2: [0]}}}},\n",
       "  20.0: {'Sex': {'female': [0],\n",
       "    'male': {'Pclass': {3: {'Embarked': {'S': 'fault', 'C': 'fault'}}}}}},\n",
       "  19.0: {'Sex': {'female': [1],\n",
       "    'male': {'Pclass': {3: [0], 1: [0], 2: {'Embarked': {'S': 'fault'}}}}}},\n",
       "  30.0: {'Sex': {'female': {'Pclass': {3: {'Embarked': {'S': 'fault'}},\n",
       "      1: [1],\n",
       "      2: [1]}},\n",
       "    'male': [0]}},\n",
       "  32.0: {'Sex': {'female': {'Pclass': {3: [0], 1: [1]}},\n",
       "    'male': {'Pclass': {3: {'Embarked': {'S': 'fault', 'Q': [0]}},\n",
       "      1: [1],\n",
       "      2: {'Embarked': {'S': 'fault'}}}}}},\n",
       "  9.0: {'Sex': {'female': [0],\n",
       "    'male': {'Pclass': {3: {'Embarked': {'S': 'fault'}}}}}},\n",
       "  21.0: {'Sex': {'female': {'Pclass': {3: {'Embarked': {'S': 'fault',\n",
       "        'Q': [0]}},\n",
       "      1: [1],\n",
       "      2: [1]}},\n",
       "    'male': [0]}},\n",
       "  52.0: {'Sex': {'female': [1],\n",
       "    'male': {'Pclass': {1: {'Embarked': {'S': 'fault'}}, 2: [0]}}}},\n",
       "  31.0: {'Sex': {'female': {'Pclass': {3: {'Embarked': {'S': 'fault'}},\n",
       "      1: [1],\n",
       "      2: [1]}},\n",
       "    'male': {'Pclass': {3: {'Embarked': {'S': 'fault', 'Q': [0]}},\n",
       "      1: [1],\n",
       "      2: {'Embarked': {'S': 'fault', 'C': [0]}}}}}},\n",
       "  56.0: {'Sex': {'female': [1], 'male': [0]}},\n",
       "  24.0: {'Sex': {'female': [1], 'male': [0]}},\n",
       "  49.0: {'Sex': {'female': [1],\n",
       "    'male': {'Pclass': {3: [0], 1: {'Embarked': {'C': 'fault'}}}}}},\n",
       "  14.0: {'Sex': {'female': {'Pclass': {3: {'Embarked': {'S': [0], 'C': [1]}},\n",
       "      1: [1],\n",
       "      2: [1]}},\n",
       "    'male': [0]}},\n",
       "  18.0: {'Sex': {'female': {'Pclass': {3: {'Embarked': {'S': 'fault',\n",
       "        'C': [0],\n",
       "        'Q': [0]}},\n",
       "      1: [1],\n",
       "      2: [1]}},\n",
       "    'male': [0]}},\n",
       "  10.0: [0],\n",
       "  11.0: {'Sex': {'male': {'Pclass': {3: [0], 1: [1]}}}},\n",
       "  39.0: {'Sex': {'female': {'Pclass': {3: [0], 1: [1]}},\n",
       "    'male': {'Pclass': {3: {'Embarked': {'S': 'fault'}}, 1: [0], 2: [0]}}}},\n",
       "  27.0: {'Sex': {'female': {'Pclass': {3: [1],\n",
       "      2: {'Embarked': {'S': 'fault', 'C': [1]}}}},\n",
       "    'male': {'Pclass': {3: {'Embarked': {'S': 'fault', 'C': [0]}},\n",
       "      1: {'Embarked': {'S': [1], 'C': 'fault'}},\n",
       "      2: [0]}}}},\n",
       "  33.0: {'Sex': {'female': [1], 'male': [0]}},\n",
       "  44.0: {'Sex': {'female': {'Pclass': {1: [1], 2: [0]}},\n",
       "    'male': {'Pclass': {3: {'Embarked': {'S': 'fault'}}, 1: [0], 2: [0]}}}},\n",
       "  36.0: {'Sex': {'female': [1],\n",
       "    'male': {'Pclass': {3: [0],\n",
       "      1: {'Embarked': {'S': 'fault', 'C': 'fault'}},\n",
       "      2: [0]}}}},\n",
       "  3.0: {'Sex': {'female': {'Pclass': {3: [0], 2: [1]}}, 'male': [1]}},\n",
       "  48.0: {'Sex': {'female': [1], 'male': {'Pclass': {3: [0], 1: [1], 2: [0]}}}},\n",
       "  40.0: {'Sex': {'female': {'Pclass': {3: [0], 1: [1], 2: [1]}},\n",
       "    'male': {'Pclass': {3: [0], 1: {'Embarked': {'S': [0], 'C': 'fault'}}}}}},\n",
       "  41.0: {'Sex': {'female': {'Pclass': {3: [0], 1: [1], 2: [1]}}, 'male': [0]}},\n",
       "  16.0: {'Sex': {'female': {'Pclass': {3: {'Embarked': {'S': [0], 'Q': [1]}},\n",
       "      1: [1]}},\n",
       "    'male': {'Pclass': {3: {'Embarked': {'S': 'fault'}}, 2: [0]}}}},\n",
       "  22.0: {'Sex': {'female': {'Pclass': {3: {'Embarked': {'S': 'fault',\n",
       "        'Q': [1]}},\n",
       "      1: [1],\n",
       "      2: [1]}},\n",
       "    'male': [0]}},\n",
       "  24.5: [0],\n",
       "  35.0: {'Sex': {'female': [1], 'male': {'Pclass': {3: [0], 1: [1], 2: [0]}}}},\n",
       "  29.0: {'Sex': {'female': {'Pclass': {3: {'Embarked': {'S': [0], 'C': [1]}},\n",
       "      2: [1]}},\n",
       "    'male': {'Pclass': {3: {'Embarked': {'S': 'fault'}}, 1: [0], 2: [0]}}}},\n",
       "  54.0: {'Sex': {'female': [1], 'male': [0]}},\n",
       "  25.0: {'Sex': {'female': {'Pclass': {3: [0], 1: [0], 2: [1]}},\n",
       "    'male': {'Pclass': {3: {'Embarked': {'S': 'fault', 'C': [0], 'Q': [0]}},\n",
       "      1: [1],\n",
       "      2: [0]}}}},\n",
       "  60.0: {'Sex': {'female': [1], 'male': [0]}},\n",
       "  28.0: {'Sex': {'female': {'Pclass': {3: [0], 2: [1]}}, 'male': [0]}},\n",
       "  50.0: {'Sex': {'female': {'Pclass': {1: {'Embarked': {'C': 'fault'}},\n",
       "      2: [1]}},\n",
       "    'male': {'Pclass': {3: [0],\n",
       "      1: {'Embarked': {'S': 'fault', 'C': [0]}},\n",
       "      2: [0]}}}},\n",
       "  42.0: {'Sex': {'female': [1],\n",
       "    'male': {'Pclass': {3: [0],\n",
       "      1: {'Embarked': {'S': 'fault'}},\n",
       "      2: {'Embarked': {'S': 'fault'}}}}}},\n",
       "  65.0: [0],\n",
       "  45.0: {'Sex': {'female': {'Pclass': {3: [0], 1: [1], 2: [1]}},\n",
       "    'male': {'Pclass': {3: [1], 1: {'Embarked': {'S': 'fault'}}}}}},\n",
       "  4.0: {'Sex': {'female': [1],\n",
       "    'male': {'Pclass': {3: {'Embarked': {'S': 'fault', 'Q': [0]}}}}}},\n",
       "  14.5: [0],\n",
       "  71.0: [0],\n",
       "  70.5: [0],\n",
       "  26.0: {'Sex': {'female': {'Pclass': {3: {'Embarked': {'S': 'fault'}},\n",
       "      2: [0]}},\n",
       "    'male': {'Pclass': {3: {'Embarked': {'S': 'fault', 'C': 'fault'}},\n",
       "      1: [1],\n",
       "      2: [0]}}}},\n",
       "  0.83: [1],\n",
       "  57.0: [0],\n",
       "  47.0: {'Sex': {'female': {'Pclass': {3: [0], 1: [1]}}, 'male': [0]}},\n",
       "  5.0: [1],\n",
       "  80.0: [1],\n",
       "  58.0: {'Sex': {'female': [1], 'male': [0]}},\n",
       "  30.5: [0],\n",
       "  70.0: [0],\n",
       "  0.92: [1],\n",
       "  61.0: [0],\n",
       "  2.0: {'Sex': {'female': {'Pclass': {3: {'Embarked': {'S': 'fault'}},\n",
       "      1: [0],\n",
       "      2: [1]}},\n",
       "    'male': {'Pclass': {3: [0], 2: [1]}}}},\n",
       "  17.0: {'Sex': {'female': {'Pclass': {3: {'Embarked': {'S': [1], 'C': [0]}},\n",
       "      1: [1],\n",
       "      2: [1]}},\n",
       "    'male': {'Pclass': {3: [0], 1: [1]}}}},\n",
       "  32.5: {'Sex': {'female': [1], 'male': [0]}},\n",
       "  0.75: [1],\n",
       "  45.5: [0],\n",
       "  23.0: {'Sex': {'female': {'Pclass': {3: {'Embarked': {'S': 'fault'}},\n",
       "      1: [1],\n",
       "      2: [1]}},\n",
       "    'male': {'Pclass': {3: [0], 1: [1], 2: [0]}}}},\n",
       "  37.0: {'Sex': {'female': [0],\n",
       "    'male': {'Pclass': {3: [0],\n",
       "      1: {'Embarked': {'S': 'fault', 'C': [0]}},\n",
       "      2: [0]}}}},\n",
       "  0.67: [1],\n",
       "  15.0: {'Sex': {'female': [1], 'male': [0]}},\n",
       "  12.0: [1],\n",
       "  8.0: {'Sex': {'female': [0], 'male': {'Pclass': {3: [0], 2: [1]}}}},\n",
       "  43.0: {'Sex': {'female': {'Pclass': {3: [0], 1: [1]}}, 'male': [0]}},\n",
       "  6.0: {'Sex': {'female': {'Pclass': {3: [0], 2: [1]}}, 'male': [1]}},\n",
       "  74.0: [0],\n",
       "  7.0: {'Sex': {'female': [1], 'male': [0]}},\n",
       "  40.5: [0],\n",
       "  36.5: [0],\n",
       "  1.0: {'Sex': {'female': [1],\n",
       "    'male': {'Pclass': {3: {'Embarked': {'S': 'fault'}}, 2: [1]}}}},\n",
       "  53.0: [1],\n",
       "  64.0: [0],\n",
       "  46.0: [0],\n",
       "  55.0: {'Sex': {'female': [1], 'male': [0]}},\n",
       "  28.5: [0],\n",
       "  59.0: [0],\n",
       "  34.5: [0],\n",
       "  62.0: {'Sex': {'female': [1], 'male': {'Pclass': {1: [0], 2: [1]}}}},\n",
       "  66.0: [0],\n",
       "  13.0: [1],\n",
       "  20.5: [0]}}"
      ]
     },
     "execution_count": 34,
     "metadata": {},
     "output_type": "execute_result"
    }
   ],
   "source": [
    "subtree = iterate_tree(train, attrs, ig, train)\n",
    "subtree"
   ]
  },
  {
   "cell_type": "code",
   "execution_count": null,
   "metadata": {},
   "outputs": [],
   "source": []
  },
  {
   "cell_type": "code",
   "execution_count": 35,
   "metadata": {},
   "outputs": [
    {
     "name": "stdout",
     "output_type": "stream",
     "text": [
      "{'Age': {0.67: [1],\n",
      "         0.75: [1],\n",
      "         0.83: [1],\n",
      "         0.92: [1],\n",
      "         1.0: {'Sex': {'female': [1],\n",
      "                       'male': {'Pclass': {2: [1],\n",
      "                                           3: {'Embarked': {'S': 'fault'}}}}}},\n",
      "         2.0: {'Sex': {'female': {'Pclass': {1: [0],\n",
      "                                             2: [1],\n",
      "                                             3: {'Embarked': {'S': 'fault'}}}},\n",
      "                       'male': {'Pclass': {2: [1], 3: [0]}}}},\n",
      "         3.0: {'Sex': {'female': {'Pclass': {2: [1], 3: [0]}}, 'male': [1]}},\n",
      "         4.0: {'Sex': {'female': [1],\n",
      "                       'male': {'Pclass': {3: {'Embarked': {'Q': [0],\n",
      "                                                            'S': 'fault'}}}}}},\n",
      "         5.0: [1],\n",
      "         6.0: {'Sex': {'female': {'Pclass': {2: [1], 3: [0]}}, 'male': [1]}},\n",
      "         7.0: {'Sex': {'female': [1], 'male': [0]}},\n",
      "         8.0: {'Sex': {'female': [0], 'male': {'Pclass': {2: [1], 3: [0]}}}},\n",
      "         9.0: {'Sex': {'female': [0],\n",
      "                       'male': {'Pclass': {3: {'Embarked': {'S': 'fault'}}}}}},\n",
      "         10.0: [0],\n",
      "         11.0: {'Sex': {'male': {'Pclass': {1: [1], 3: [0]}}}},\n",
      "         12.0: [1],\n",
      "         13.0: [1],\n",
      "         14.0: {'Sex': {'female': {'Pclass': {1: [1],\n",
      "                                              2: [1],\n",
      "                                              3: {'Embarked': {'C': [1],\n",
      "                                                               'S': [0]}}}},\n",
      "                        'male': [0]}},\n",
      "         14.5: [0],\n",
      "         15.0: {'Sex': {'female': [1], 'male': [0]}},\n",
      "         16.0: {'Sex': {'female': {'Pclass': {1: [1],\n",
      "                                              3: {'Embarked': {'Q': [1],\n",
      "                                                               'S': [0]}}}},\n",
      "                        'male': {'Pclass': {2: [0],\n",
      "                                            3: {'Embarked': {'S': 'fault'}}}}}},\n",
      "         17.0: {'Sex': {'female': {'Pclass': {1: [1],\n",
      "                                              2: [1],\n",
      "                                              3: {'Embarked': {'C': [0],\n",
      "                                                               'S': [1]}}}},\n",
      "                        'male': {'Pclass': {1: [1], 3: [0]}}}},\n",
      "         18.0: {'Sex': {'female': {'Pclass': {1: [1],\n",
      "                                              2: [1],\n",
      "                                              3: {'Embarked': {'C': [0],\n",
      "                                                               'Q': [0],\n",
      "                                                               'S': 'fault'}}}},\n",
      "                        'male': [0]}},\n",
      "         19.0: {'Sex': {'female': [1],\n",
      "                        'male': {'Pclass': {1: [0],\n",
      "                                            2: {'Embarked': {'S': 'fault'}},\n",
      "                                            3: [0]}}}},\n",
      "         20.0: {'Sex': {'female': [0],\n",
      "                        'male': {'Pclass': {3: {'Embarked': {'C': 'fault',\n",
      "                                                             'S': 'fault'}}}}}},\n",
      "         20.5: [0],\n",
      "         21.0: {'Sex': {'female': {'Pclass': {1: [1],\n",
      "                                              2: [1],\n",
      "                                              3: {'Embarked': {'Q': [0],\n",
      "                                                               'S': 'fault'}}}},\n",
      "                        'male': [0]}},\n",
      "         22.0: {'Sex': {'female': {'Pclass': {1: [1],\n",
      "                                              2: [1],\n",
      "                                              3: {'Embarked': {'Q': [1],\n",
      "                                                               'S': 'fault'}}}},\n",
      "                        'male': [0]}},\n",
      "         23.0: {'Sex': {'female': {'Pclass': {1: [1],\n",
      "                                              2: [1],\n",
      "                                              3: {'Embarked': {'S': 'fault'}}}},\n",
      "                        'male': {'Pclass': {1: [1], 2: [0], 3: [0]}}}},\n",
      "         24.0: {'Sex': {'female': [1], 'male': [0]}},\n",
      "         24.5: [0],\n",
      "         25.0: {'Sex': {'female': {'Pclass': {1: [0], 2: [1], 3: [0]}},\n",
      "                        'male': {'Pclass': {1: [1],\n",
      "                                            2: [0],\n",
      "                                            3: {'Embarked': {'C': [0],\n",
      "                                                             'Q': [0],\n",
      "                                                             'S': 'fault'}}}}}},\n",
      "         26.0: {'Sex': {'female': {'Pclass': {2: [0],\n",
      "                                              3: {'Embarked': {'S': 'fault'}}}},\n",
      "                        'male': {'Pclass': {1: [1],\n",
      "                                            2: [0],\n",
      "                                            3: {'Embarked': {'C': 'fault',\n",
      "                                                             'S': 'fault'}}}}}},\n",
      "         27.0: {'Sex': {'female': {'Pclass': {2: {'Embarked': {'C': [1],\n",
      "                                                               'S': 'fault'}},\n",
      "                                              3: [1]}},\n",
      "                        'male': {'Pclass': {1: {'Embarked': {'C': 'fault',\n",
      "                                                             'S': [1]}},\n",
      "                                            2: [0],\n",
      "                                            3: {'Embarked': {'C': [0],\n",
      "                                                             'S': 'fault'}}}}}},\n",
      "         28.0: {'Sex': {'female': {'Pclass': {2: [1], 3: [0]}}, 'male': [0]}},\n",
      "         28.5: [0],\n",
      "         29.0: {'Sex': {'female': {'Pclass': {2: [1],\n",
      "                                              3: {'Embarked': {'C': [1],\n",
      "                                                               'S': [0]}}}},\n",
      "                        'male': {'Pclass': {1: [0],\n",
      "                                            2: [0],\n",
      "                                            3: {'Embarked': {'S': 'fault'}}}}}},\n",
      "         30.0: {'Sex': {'female': {'Pclass': {1: [1],\n",
      "                                              2: [1],\n",
      "                                              3: {'Embarked': {'S': 'fault'}}}},\n",
      "                        'male': [0]}},\n",
      "         30.5: [0],\n",
      "         31.0: {'Sex': {'female': {'Pclass': {1: [1],\n",
      "                                              2: [1],\n",
      "                                              3: {'Embarked': {'S': 'fault'}}}},\n",
      "                        'male': {'Pclass': {1: [1],\n",
      "                                            2: {'Embarked': {'C': [0],\n",
      "                                                             'S': 'fault'}},\n",
      "                                            3: {'Embarked': {'Q': [0],\n",
      "                                                             'S': 'fault'}}}}}},\n",
      "         32.0: {'Sex': {'female': {'Pclass': {1: [1], 3: [0]}},\n",
      "                        'male': {'Pclass': {1: [1],\n",
      "                                            2: {'Embarked': {'S': 'fault'}},\n",
      "                                            3: {'Embarked': {'Q': [0],\n",
      "                                                             'S': 'fault'}}}}}},\n",
      "         32.5: {'Sex': {'female': [1], 'male': [0]}},\n",
      "         33.0: {'Sex': {'female': [1], 'male': [0]}},\n",
      "         34.0: {'Sex': {'female': [1],\n",
      "                        'male': {'Pclass': {1: [1], 2: [0], 3: [0]}}}},\n",
      "         34.5: [0],\n",
      "         35.0: {'Sex': {'female': [1],\n",
      "                        'male': {'Pclass': {1: [1], 2: [0], 3: [0]}}}},\n",
      "         36.0: {'Sex': {'female': [1],\n",
      "                        'male': {'Pclass': {1: {'Embarked': {'C': 'fault',\n",
      "                                                             'S': 'fault'}},\n",
      "                                            2: [0],\n",
      "                                            3: [0]}}}},\n",
      "         36.5: [0],\n",
      "         37.0: {'Sex': {'female': [0],\n",
      "                        'male': {'Pclass': {1: {'Embarked': {'C': [0],\n",
      "                                                             'S': 'fault'}},\n",
      "                                            2: [0],\n",
      "                                            3: [0]}}}},\n",
      "         38.0: {'Sex': {'female': {'Pclass': {1: [1], 2: [0], 3: [1]}},\n",
      "                        'male': {'Pclass': {1: {'Embarked': {'S': 'fault'}},\n",
      "                                            3: [0]}}}},\n",
      "         39.0: {'Sex': {'female': {'Pclass': {1: [1], 3: [0]}},\n",
      "                        'male': {'Pclass': {1: [0],\n",
      "                                            2: [0],\n",
      "                                            3: {'Embarked': {'S': 'fault'}}}}}},\n",
      "         40.0: {'Sex': {'female': {'Pclass': {1: [1], 2: [1], 3: [0]}},\n",
      "                        'male': {'Pclass': {1: {'Embarked': {'C': 'fault',\n",
      "                                                             'S': [0]}},\n",
      "                                            3: [0]}}}},\n",
      "         40.5: [0],\n",
      "         41.0: {'Sex': {'female': {'Pclass': {1: [1], 2: [1], 3: [0]}},\n",
      "                        'male': [0]}},\n",
      "         42.0: {'Sex': {'female': [1],\n",
      "                        'male': {'Pclass': {1: {'Embarked': {'S': 'fault'}},\n",
      "                                            2: {'Embarked': {'S': 'fault'}},\n",
      "                                            3: [0]}}}},\n",
      "         43.0: {'Sex': {'female': {'Pclass': {1: [1], 3: [0]}}, 'male': [0]}},\n",
      "         44.0: {'Sex': {'female': {'Pclass': {1: [1], 2: [0]}},\n",
      "                        'male': {'Pclass': {1: [0],\n",
      "                                            2: [0],\n",
      "                                            3: {'Embarked': {'S': 'fault'}}}}}},\n",
      "         45.0: {'Sex': {'female': {'Pclass': {1: [1], 2: [1], 3: [0]}},\n",
      "                        'male': {'Pclass': {1: {'Embarked': {'S': 'fault'}},\n",
      "                                            3: [1]}}}},\n",
      "         45.5: [0],\n",
      "         46.0: [0],\n",
      "         47.0: {'Sex': {'female': {'Pclass': {1: [1], 3: [0]}}, 'male': [0]}},\n",
      "         48.0: {'Sex': {'female': [1],\n",
      "                        'male': {'Pclass': {1: [1], 2: [0], 3: [0]}}}},\n",
      "         49.0: {'Sex': {'female': [1],\n",
      "                        'male': {'Pclass': {1: {'Embarked': {'C': 'fault'}},\n",
      "                                            3: [0]}}}},\n",
      "         50.0: {'Sex': {'female': {'Pclass': {1: {'Embarked': {'C': 'fault'}},\n",
      "                                              2: [1]}},\n",
      "                        'male': {'Pclass': {1: {'Embarked': {'C': [0],\n",
      "                                                             'S': 'fault'}},\n",
      "                                            2: [0],\n",
      "                                            3: [0]}}}},\n",
      "         51.0: {'Sex': {'female': [1],\n",
      "                        'male': {'Pclass': {1: {'Embarked': {'C': [0],\n",
      "                                                             'S': [1]}},\n",
      "                                            2: [0],\n",
      "                                            3: [0]}}}},\n",
      "         52.0: {'Sex': {'female': [1],\n",
      "                        'male': {'Pclass': {1: {'Embarked': {'S': 'fault'}},\n",
      "                                            2: [0]}}}},\n",
      "         53.0: [1],\n",
      "         54.0: {'Sex': {'female': [1], 'male': [0]}},\n",
      "         55.0: {'Sex': {'female': [1], 'male': [0]}},\n",
      "         56.0: {'Sex': {'female': [1], 'male': [0]}},\n",
      "         57.0: [0],\n",
      "         58.0: {'Sex': {'female': [1], 'male': [0]}},\n",
      "         59.0: [0],\n",
      "         60.0: {'Sex': {'female': [1], 'male': [0]}},\n",
      "         61.0: [0],\n",
      "         62.0: {'Sex': {'female': [1], 'male': {'Pclass': {1: [0], 2: [1]}}}},\n",
      "         63.0: [1],\n",
      "         64.0: [0],\n",
      "         65.0: [0],\n",
      "         66.0: [0],\n",
      "         70.0: [0],\n",
      "         70.5: [0],\n",
      "         71.0: [0],\n",
      "         74.0: [0],\n",
      "         80.0: [1]}}\n"
     ]
    }
   ],
   "source": [
    "import pprint\n",
    "pprint.pprint(subtree)"
   ]
  },
  {
   "cell_type": "code",
   "execution_count": null,
   "metadata": {},
   "outputs": [],
   "source": []
  }
 ],
 "metadata": {
  "kernelspec": {
   "display_name": "Python 3",
   "language": "python",
   "name": "python3"
  },
  "language_info": {
   "codemirror_mode": {
    "name": "ipython",
    "version": 3
   },
   "file_extension": ".py",
   "mimetype": "text/x-python",
   "name": "python",
   "nbconvert_exporter": "python",
   "pygments_lexer": "ipython3",
   "version": "3.8.6"
  }
 },
 "nbformat": 4,
 "nbformat_minor": 4
}
