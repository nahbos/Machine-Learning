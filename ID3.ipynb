{
 "cells": [
  {
   "cell_type": "markdown",
   "metadata": {},
   "source": [
    "## Copyright (C) 2020 Sobhan Moradiyan Daghigh - All Rights Reserved\n",
    "#### > 12/24/2020\n",
    "### \n",
    "## ID3"
   ]
  },
  {
   "cell_type": "code",
   "execution_count": 50,
   "metadata": {},
   "outputs": [],
   "source": [
    "import numpy as np\n",
    "import pandas as pd\n",
    "\n",
    "eps = np.finfo(float).eps"
   ]
  },
  {
   "cell_type": "markdown",
   "metadata": {},
   "source": [
    "### Reading datasets "
   ]
  },
  {
   "cell_type": "code",
   "execution_count": 56,
   "metadata": {},
   "outputs": [],
   "source": [
    "train = pd.DataFrame(pd.read_csv('./datasets/train.csv'))\n",
    "train_labels = pd.DataFrame(pd.read_csv('./datasets/train_labels.csv'))"
   ]
  },
  {
   "cell_type": "code",
   "execution_count": 31,
   "metadata": {},
   "outputs": [
    {
     "data": {
      "text/html": [
       "<div>\n",
       "<style scoped>\n",
       "    .dataframe tbody tr th:only-of-type {\n",
       "        vertical-align: middle;\n",
       "    }\n",
       "\n",
       "    .dataframe tbody tr th {\n",
       "        vertical-align: top;\n",
       "    }\n",
       "\n",
       "    .dataframe thead th {\n",
       "        text-align: right;\n",
       "    }\n",
       "</style>\n",
       "<table border=\"1\" class=\"dataframe\">\n",
       "  <thead>\n",
       "    <tr style=\"text-align: right;\">\n",
       "      <th></th>\n",
       "      <th>PassengerId</th>\n",
       "      <th>Pclass</th>\n",
       "      <th>Name</th>\n",
       "      <th>Sex</th>\n",
       "      <th>Age</th>\n",
       "      <th>SibSp</th>\n",
       "      <th>Parch</th>\n",
       "      <th>Ticket</th>\n",
       "      <th>Fare</th>\n",
       "      <th>Cabin</th>\n",
       "      <th>Embarked</th>\n",
       "    </tr>\n",
       "  </thead>\n",
       "  <tbody>\n",
       "    <tr>\n",
       "      <th>0</th>\n",
       "      <td>484</td>\n",
       "      <td>3</td>\n",
       "      <td>Turkula, Mrs. (Hedwig)</td>\n",
       "      <td>female</td>\n",
       "      <td>63.0</td>\n",
       "      <td>0</td>\n",
       "      <td>0</td>\n",
       "      <td>4134.0</td>\n",
       "      <td>9.5875</td>\n",
       "      <td>NaN</td>\n",
       "      <td>S</td>\n",
       "    </tr>\n",
       "    <tr>\n",
       "      <th>1</th>\n",
       "      <td>276</td>\n",
       "      <td>1</td>\n",
       "      <td>Andrews, Miss. Kornelia Theodosia</td>\n",
       "      <td>female</td>\n",
       "      <td>63.0</td>\n",
       "      <td>1</td>\n",
       "      <td>0</td>\n",
       "      <td>13502.0</td>\n",
       "      <td>77.9583</td>\n",
       "      <td>D7</td>\n",
       "      <td>S</td>\n",
       "    </tr>\n",
       "    <tr>\n",
       "      <th>2</th>\n",
       "      <td>223</td>\n",
       "      <td>3</td>\n",
       "      <td>Green, Mr. George Henry</td>\n",
       "      <td>male</td>\n",
       "      <td>51.0</td>\n",
       "      <td>0</td>\n",
       "      <td>0</td>\n",
       "      <td>21440.0</td>\n",
       "      <td>8.0500</td>\n",
       "      <td>NaN</td>\n",
       "      <td>S</td>\n",
       "    </tr>\n",
       "    <tr>\n",
       "      <th>3</th>\n",
       "      <td>632</td>\n",
       "      <td>3</td>\n",
       "      <td>Lundahl, Mr. Johan Svensson</td>\n",
       "      <td>male</td>\n",
       "      <td>51.0</td>\n",
       "      <td>0</td>\n",
       "      <td>0</td>\n",
       "      <td>347743.0</td>\n",
       "      <td>7.0542</td>\n",
       "      <td>NaN</td>\n",
       "      <td>S</td>\n",
       "    </tr>\n",
       "    <tr>\n",
       "      <th>4</th>\n",
       "      <td>26</td>\n",
       "      <td>3</td>\n",
       "      <td>Asplund, Mrs. Carl Oscar (Selma Augusta Emilia...</td>\n",
       "      <td>female</td>\n",
       "      <td>38.0</td>\n",
       "      <td>1</td>\n",
       "      <td>5</td>\n",
       "      <td>347077.0</td>\n",
       "      <td>31.3875</td>\n",
       "      <td>NaN</td>\n",
       "      <td>S</td>\n",
       "    </tr>\n",
       "  </tbody>\n",
       "</table>\n",
       "</div>"
      ],
      "text/plain": [
       "   PassengerId  Pclass                                               Name  \\\n",
       "0          484       3                             Turkula, Mrs. (Hedwig)   \n",
       "1          276       1                  Andrews, Miss. Kornelia Theodosia   \n",
       "2          223       3                            Green, Mr. George Henry   \n",
       "3          632       3                        Lundahl, Mr. Johan Svensson   \n",
       "4           26       3  Asplund, Mrs. Carl Oscar (Selma Augusta Emilia...   \n",
       "\n",
       "      Sex   Age  SibSp  Parch    Ticket     Fare Cabin Embarked  \n",
       "0  female  63.0      0      0    4134.0   9.5875   NaN        S  \n",
       "1  female  63.0      1      0   13502.0  77.9583    D7        S  \n",
       "2    male  51.0      0      0   21440.0   8.0500   NaN        S  \n",
       "3    male  51.0      0      0  347743.0   7.0542   NaN        S  \n",
       "4  female  38.0      1      5  347077.0  31.3875   NaN        S  "
      ]
     },
     "execution_count": 31,
     "metadata": {},
     "output_type": "execute_result"
    }
   ],
   "source": [
    "train.head()"
   ]
  },
  {
   "cell_type": "code",
   "execution_count": 32,
   "metadata": {},
   "outputs": [
    {
     "name": "stdout",
     "output_type": "stream",
     "text": [
      "<class 'pandas.core.frame.DataFrame'>\n",
      "RangeIndex: 800 entries, 0 to 799\n",
      "Data columns (total 11 columns):\n",
      " #   Column       Non-Null Count  Dtype  \n",
      "---  ------       --------------  -----  \n",
      " 0   PassengerId  800 non-null    int64  \n",
      " 1   Pclass       800 non-null    int64  \n",
      " 2   Name         800 non-null    object \n",
      " 3   Sex          800 non-null    object \n",
      " 4   Age          640 non-null    float64\n",
      " 5   SibSp        800 non-null    int64  \n",
      " 6   Parch        800 non-null    int64  \n",
      " 7   Ticket       589 non-null    float64\n",
      " 8   Fare         800 non-null    float64\n",
      " 9   Cabin        183 non-null    object \n",
      " 10  Embarked     800 non-null    object \n",
      "dtypes: float64(3), int64(4), object(4)\n",
      "memory usage: 68.9+ KB\n"
     ]
    }
   ],
   "source": [
    "train.info()"
   ]
  },
  {
   "cell_type": "markdown",
   "metadata": {},
   "source": [
    "#### Therefore, it seems that (Age, Ticket, Cabin) columns have missing values."
   ]
  },
  {
   "cell_type": "markdown",
   "metadata": {},
   "source": [
    "### Attrs which wanna use."
   ]
  },
  {
   "cell_type": "code",
   "execution_count": 81,
   "metadata": {},
   "outputs": [],
   "source": [
    "attrs = ['Pclass', 'Sex', 'Embarked']"
   ]
  },
  {
   "cell_type": "markdown",
   "metadata": {},
   "source": [
    "###  Summary of train_labels"
   ]
  },
  {
   "cell_type": "code",
   "execution_count": 33,
   "metadata": {},
   "outputs": [
    {
     "data": {
      "text/plain": [
       "Survived\n",
       "0           492\n",
       "1           308\n",
       "dtype: int64"
      ]
     },
     "execution_count": 33,
     "metadata": {},
     "output_type": "execute_result"
    }
   ],
   "source": [
    "train_labels.value_counts()"
   ]
  },
  {
   "cell_type": "markdown",
   "metadata": {},
   "source": [
    "### Ok let's define a function for calculating Entropy"
   ]
  },
  {
   "cell_type": "code",
   "execution_count": 75,
   "metadata": {},
   "outputs": [],
   "source": [
    "def get_entropy(dataset, labels, attr):\n",
    "    entropy = 0\n",
    "    \n",
    "    labels   = labels['Survived'].unique()         # 0: dead, 1: alived\n",
    "    features = dataset[attr].unique()              # Each feature for an attr. e.g. Sex attr has (Female, Male) features. \n",
    "    \n",
    "    for feature in features:\n",
    "        feature_entropy = 0\n",
    "        \n",
    "        for label in labels:\n",
    "            cnt_of_each_grp = len(dataset[attr][dataset[attr]==feature][labels['Survived']==label])\n",
    "            cnt_of_all = len(dataset[attr][dataset[attr]==feature])\n",
    "            fraction = np.divide(cnt_of_each_grp, np.add(cnt_of_all, eps))\n",
    "            feature_entropy += np.multiply(-fraction, np.log2(fraction))               \n",
    "        \n",
    "        fraction_of_features = np.divide(cnt_of_all, np.add(len(dataset), eps))\n",
    "        entropy += np.multiply(fraction_of_features, feature_entropy)\n",
    "        return entropy"
   ]
  },
  {
   "cell_type": "markdown",
   "metadata": {},
   "source": [
    "### And another one for calculating root entropy "
   ]
  },
  {
   "cell_type": "code",
   "execution_count": 74,
   "metadata": {},
   "outputs": [],
   "source": [
    "def get_root_entropy(labels):\n",
    "    entropy = 0\n",
    "    \n",
    "    labels   = labels['Survived'].unique()         # 0: dead, 1: alived\n",
    "    \n",
    "    for label in labels:\n",
    "        cnt_of_each_grp = labels['Survived'].value_counts()[label]\n",
    "        cnt_of_all = len(labels)\n",
    "        fraction = np.divide(cnt_of_each_grp, np.add(cnt_of_all, eps))\n",
    "        entropy += np.multiply(-fraction, np.log2(fraction))               \n",
    "    \n",
    "    return entropy"
   ]
  },
  {
   "cell_type": "markdown",
   "metadata": {},
   "source": [
    "### And finaly a function for calculating Information Gain (IG)"
   ]
  },
  {
   "cell_type": "code",
   "execution_count": 72,
   "metadata": {},
   "outputs": [],
   "source": [
    "def get_information_gain(dataset, labels, attr):\n",
    "    root_entropy = get_root_entropy(labels)\n",
    "    attr_entropy = get_entropy(dataset, labels, attr)\n",
    "    \n",
    "    ig = root_entropy - attr_entropy\n",
    "    \n",
    "    return ig"
   ]
  },
  {
   "cell_type": "code",
   "execution_count": null,
   "metadata": {},
   "outputs": [],
   "source": []
  },
  {
   "cell_type": "code",
   "execution_count": 71,
   "metadata": {},
   "outputs": [
    {
     "data": {
      "text/plain": [
       "0.9614969508235551"
      ]
     },
     "execution_count": 71,
     "metadata": {},
     "output_type": "execute_result"
    }
   ],
   "source": [
    "get_root_entropy(train_labels)"
   ]
  },
  {
   "cell_type": "code",
   "execution_count": 78,
   "metadata": {},
   "outputs": [
    {
     "name": "stdout",
     "output_type": "stream",
     "text": [
      "Entropy of each atrr: \n"
     ]
    },
    {
     "data": {
      "text/plain": [
       "{'Pclass': 0.4432098091637809,\n",
       " 'Sex': 0.28643773973420256,\n",
       " 'Embarked': 0.6734013070701766}"
      ]
     },
     "execution_count": 78,
     "metadata": {},
     "output_type": "execute_result"
    }
   ],
   "source": [
    "entropy = {k:get_entropy(train, train_labels, k) for k in ['Pclass', 'Sex', 'Embarked']}\n",
    "print(\"Entropy of each atrr: \")\n",
    "entropy"
   ]
  },
  {
   "cell_type": "code",
   "execution_count": 256,
   "metadata": {},
   "outputs": [
    {
     "name": "stdout",
     "output_type": "stream",
     "text": [
      "IG of each atrr: \n"
     ]
    },
    {
     "data": {
      "text/plain": [
       "{'Pclass': 0.5182871416597743,\n",
       " 'Sex': 0.6750592110893525,\n",
       " 'Embarked': 0.2880956437533785}"
      ]
     },
     "execution_count": 256,
     "metadata": {},
     "output_type": "execute_result"
    }
   ],
   "source": [
    "ig = {k:get_information_gain(train, train_labels, k) for k in attrs}\n",
    "print(\"IG of each atrr: \")\n",
    "ig"
   ]
  },
  {
   "cell_type": "markdown",
   "metadata": {},
   "source": [
    "#### Therefore, till now 'Sex' attr is the best one"
   ]
  },
  {
   "cell_type": "code",
   "execution_count": null,
   "metadata": {},
   "outputs": [],
   "source": []
  },
  {
   "cell_type": "markdown",
   "metadata": {},
   "source": [
    "### Define a func which choose the most information gain for each iterate."
   ]
  },
  {
   "cell_type": "code",
   "execution_count": 98,
   "metadata": {},
   "outputs": [],
   "source": [
    "def get_best_ig(ig):\n",
    "    best = max(ig.values())\n",
    "    attr_index = list(ig.values()).index(best)\n",
    "    attr_name  = list(ig.keys())[attr_index]\n",
    "    return attr_name"
   ]
  },
  {
   "cell_type": "code",
   "execution_count": 99,
   "metadata": {},
   "outputs": [
    {
     "data": {
      "text/plain": [
       "'Sex'"
      ]
     },
     "execution_count": 99,
     "metadata": {},
     "output_type": "execute_result"
    }
   ],
   "source": [
    "get_best_ig(ig)"
   ]
  },
  {
   "cell_type": "markdown",
   "metadata": {},
   "source": [
    "### Define a func which returns the subtree for each node."
   ]
  },
  {
   "cell_type": "code",
   "execution_count": 132,
   "metadata": {},
   "outputs": [],
   "source": [
    "def get_subtree_df(dataset, attr, feature):\n",
    "    return pd.DataFrame(dataset[dataset[attr] == feature].reset_index(drop=True))"
   ]
  },
  {
   "cell_type": "markdown",
   "metadata": {},
   "source": [
    "### Defind a func for checking purity of nodes."
   ]
  },
  {
   "cell_type": "code",
   "execution_count": 248,
   "metadata": {},
   "outputs": [],
   "source": [
    "def check_purity(dataset, labels, subtree):\n",
    "    alived = 0\n",
    "    dead = 0\n",
    "    \n",
    "    for passengerId in subtree.iloc[:, 0]:\n",
    "        index = dataset.loc[dataset['PassengerId'] == passengerId].index.values[0]\n",
    "        if labels['Survived'][index] == 0:\n",
    "            dead += 1\n",
    "        elif labels['Survived'][index] == 1:\n",
    "            alived += 1\n",
    "\n",
    "    if np.divide(max(alived, dead), np.add(alived, dead)) > 0.95:\n",
    "        return 1, [1 if alived > dead else 0]    # Pure\n",
    "    else:\n",
    "        return 0, [1 if alived > dead else 0]    # Not pure"
   ]
  },
  {
   "cell_type": "markdown",
   "metadata": {},
   "source": [
    "### And finally the main function for making the tree."
   ]
  },
  {
   "cell_type": "code",
   "execution_count": 257,
   "metadata": {},
   "outputs": [],
   "source": [
    "def iterate_tree(dataset, labels, attrs, ig_list, tree=None):\n",
    "\n",
    "    node = get_best_ig(ig_list)\n",
    "    ig_list.pop(node, None)\n",
    "    \n",
    "    features = dataset[node].unique()\n",
    "    \n",
    "    # Create a dictionary for our tree, just onece\n",
    "    if tree is None:           \n",
    "        tree = {}\n",
    "        tree[node] = {}\n",
    "    \n",
    "    for feature in features:\n",
    "        subtree = get_subtree_df(dataset, node, feature)\n",
    "        purity, won_class = check_purity(dataset, labels, subtree)\n",
    "            \n",
    "        if purity:\n",
    "            tree[node][feature] = won_class                                                    \n",
    "        else:\n",
    "            if not ig_list:\n",
    "                tree[node][feature] = won_class\n",
    "                return tree\n",
    "            else:\n",
    "                tree[node][feature] = iterate_tree(dataset, labels, attrs, ig_list)\n",
    "            \n",
    "    return tree"
   ]
  },
  {
   "cell_type": "code",
   "execution_count": 258,
   "metadata": {},
   "outputs": [
    {
     "data": {
      "text/plain": [
       "{'Sex': {'female': {'Pclass': {3: {'Embarked': {'S': [0]}}, 1: [1]}},\n",
       "  'male': [0]}}"
      ]
     },
     "execution_count": 258,
     "metadata": {},
     "output_type": "execute_result"
    }
   ],
   "source": [
    "subtree = iterate_tree(train, train_labels, attrs, ig)\n",
    "subtree"
   ]
  },
  {
   "cell_type": "code",
   "execution_count": 259,
   "metadata": {},
   "outputs": [
    {
     "name": "stdout",
     "output_type": "stream",
     "text": [
      "{'Sex': {'female': {'Pclass': {1: [1], 3: {'Embarked': {'S': [0]}}}},\n",
      "         'male': [0]}}\n"
     ]
    }
   ],
   "source": [
    "import pprint\n",
    "pprint.pprint(subtree)"
   ]
  },
  {
   "cell_type": "code",
   "execution_count": null,
   "metadata": {},
   "outputs": [],
   "source": []
  }
 ],
 "metadata": {
  "kernelspec": {
   "display_name": "Python 3",
   "language": "python",
   "name": "python3"
  },
  "language_info": {
   "codemirror_mode": {
    "name": "ipython",
    "version": 3
   },
   "file_extension": ".py",
   "mimetype": "text/x-python",
   "name": "python",
   "nbconvert_exporter": "python",
   "pygments_lexer": "ipython3",
   "version": "3.8.6"
  }
 },
 "nbformat": 4,
 "nbformat_minor": 4
}
